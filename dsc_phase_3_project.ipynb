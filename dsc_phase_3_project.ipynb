{
  "nbformat": 4,
  "nbformat_minor": 0,
  "metadata": {
    "colab": {
      "provenance": [],
      "toc_visible": true
    },
    "kernelspec": {
      "name": "python3",
      "display_name": "Python 3"
    },
    "language_info": {
      "name": "python"
    }
  },
  "cells": [
    {
      "cell_type": "markdown",
      "source": [
        "# Project Overview\n",
        "This is a project overview for a customer churn prediction project in a telco company. \n",
        "\n",
        "## Project Objective: \n",
        "The main objective of the project is to develop a predictive model that will identify customers that are most likely to churn thus enabling the Telco to develop strategies of retention and improve its business performance.\n",
        "\n",
        "## Data Source: \n",
        "The data usde for the project is obtained from Kaggle (https://www.kaggle.com/datasets/becksddf/churn-in-telecoms-dataset) which includes data on: state, account length, area code, phone number,\n",
        "       international plan, voice mail plan, number vmail messages,\n",
        "       total day minutes, total day calls, total day charge,\n",
        "       total eve minutes, total eve calls, total eve charge,\n",
        "       total night minutes, total night calls, total night charge,\n",
        "       total intl minutes, total intl calls, total intl charge,\n",
        "       customer service calls and churn.\n",
        "\n",
        "## Methods: \n",
        "The project uses the CRISP-DM (Cross-Industry Standard Process for Data Mining) process, which stages include: data understanding, data preparation, modeling, evaluation, and deployment. \n",
        "The modeling phase will involve building and evaluating various predictive models, starting with a basic logistic regression to a relatively complex models like Decision Trees. The performance of the models will be assessed using metrics such as accuracy, precision, recall, and F1-score.\n",
        "\n",
        "## Deliverables: \n",
        "The final deliverables of this project will include a predictive model that can be used for customer churn prediction and a presentation summarizing the key findings and recommendations for the company.\n",
        "\n",
        "## Timeline: \n",
        "The project is expected to take 4 days to complete.\n"
      ],
      "metadata": {
        "id": "BHVMn8b_-Vju"
      }
    },
    {
      "cell_type": "markdown",
      "source": [
        "# Business Problem\n",
        "The business problem is to identify customers in a telco company who are most likely to churn (Number of customers who are likely to stop purchasing the business's services), to enable the telco develop strategies to retain them and improve performance."
      ],
      "metadata": {
        "id": "LOQsG45q-jHb"
      }
    },
    {
      "cell_type": "markdown",
      "source": [
        "# Data Understanding\n",
        "## Loading the Data"
      ],
      "metadata": {
        "id": "iYclWlmu-oCX"
      }
    },
    {
      "cell_type": "code",
      "execution_count": 2,
      "metadata": {
        "colab": {
          "base_uri": "https://localhost:8080/",
          "height": 421
        },
        "id": "84-39Uph6a_b",
        "outputId": "fe784d93-57e2-4ea6-cf83-db858cac4a1b"
      },
      "outputs": [
        {
          "output_type": "execute_result",
          "data": {
            "text/plain": [
              "  state  account length  area code phone number international plan  \\\n",
              "0    KS             128        415     382-4657                 no   \n",
              "1    OH             107        415     371-7191                 no   \n",
              "2    NJ             137        415     358-1921                 no   \n",
              "3    OH              84        408     375-9999                yes   \n",
              "4    OK              75        415     330-6626                yes   \n",
              "\n",
              "  voice mail plan  number vmail messages  total day minutes  total day calls  \\\n",
              "0             yes                     25              265.1              110   \n",
              "1             yes                     26              161.6              123   \n",
              "2              no                      0              243.4              114   \n",
              "3              no                      0              299.4               71   \n",
              "4              no                      0              166.7              113   \n",
              "\n",
              "   total day charge  ...  total eve calls  total eve charge  \\\n",
              "0             45.07  ...               99             16.78   \n",
              "1             27.47  ...              103             16.62   \n",
              "2             41.38  ...              110             10.30   \n",
              "3             50.90  ...               88              5.26   \n",
              "4             28.34  ...              122             12.61   \n",
              "\n",
              "   total night minutes  total night calls  total night charge  \\\n",
              "0                244.7                 91               11.01   \n",
              "1                254.4                103               11.45   \n",
              "2                162.6                104                7.32   \n",
              "3                196.9                 89                8.86   \n",
              "4                186.9                121                8.41   \n",
              "\n",
              "   total intl minutes  total intl calls  total intl charge  \\\n",
              "0                10.0                 3               2.70   \n",
              "1                13.7                 3               3.70   \n",
              "2                12.2                 5               3.29   \n",
              "3                 6.6                 7               1.78   \n",
              "4                10.1                 3               2.73   \n",
              "\n",
              "   customer service calls  churn  \n",
              "0                       1  False  \n",
              "1                       1  False  \n",
              "2                       0  False  \n",
              "3                       2  False  \n",
              "4                       3  False  \n",
              "\n",
              "[5 rows x 21 columns]"
            ],
            "text/html": [
              "\n",
              "  <div id=\"df-b987621a-ff42-407b-a825-ad69e4ac16fa\">\n",
              "    <div class=\"colab-df-container\">\n",
              "      <div>\n",
              "<style scoped>\n",
              "    .dataframe tbody tr th:only-of-type {\n",
              "        vertical-align: middle;\n",
              "    }\n",
              "\n",
              "    .dataframe tbody tr th {\n",
              "        vertical-align: top;\n",
              "    }\n",
              "\n",
              "    .dataframe thead th {\n",
              "        text-align: right;\n",
              "    }\n",
              "</style>\n",
              "<table border=\"1\" class=\"dataframe\">\n",
              "  <thead>\n",
              "    <tr style=\"text-align: right;\">\n",
              "      <th></th>\n",
              "      <th>state</th>\n",
              "      <th>account length</th>\n",
              "      <th>area code</th>\n",
              "      <th>phone number</th>\n",
              "      <th>international plan</th>\n",
              "      <th>voice mail plan</th>\n",
              "      <th>number vmail messages</th>\n",
              "      <th>total day minutes</th>\n",
              "      <th>total day calls</th>\n",
              "      <th>total day charge</th>\n",
              "      <th>...</th>\n",
              "      <th>total eve calls</th>\n",
              "      <th>total eve charge</th>\n",
              "      <th>total night minutes</th>\n",
              "      <th>total night calls</th>\n",
              "      <th>total night charge</th>\n",
              "      <th>total intl minutes</th>\n",
              "      <th>total intl calls</th>\n",
              "      <th>total intl charge</th>\n",
              "      <th>customer service calls</th>\n",
              "      <th>churn</th>\n",
              "    </tr>\n",
              "  </thead>\n",
              "  <tbody>\n",
              "    <tr>\n",
              "      <th>0</th>\n",
              "      <td>KS</td>\n",
              "      <td>128</td>\n",
              "      <td>415</td>\n",
              "      <td>382-4657</td>\n",
              "      <td>no</td>\n",
              "      <td>yes</td>\n",
              "      <td>25</td>\n",
              "      <td>265.1</td>\n",
              "      <td>110</td>\n",
              "      <td>45.07</td>\n",
              "      <td>...</td>\n",
              "      <td>99</td>\n",
              "      <td>16.78</td>\n",
              "      <td>244.7</td>\n",
              "      <td>91</td>\n",
              "      <td>11.01</td>\n",
              "      <td>10.0</td>\n",
              "      <td>3</td>\n",
              "      <td>2.70</td>\n",
              "      <td>1</td>\n",
              "      <td>False</td>\n",
              "    </tr>\n",
              "    <tr>\n",
              "      <th>1</th>\n",
              "      <td>OH</td>\n",
              "      <td>107</td>\n",
              "      <td>415</td>\n",
              "      <td>371-7191</td>\n",
              "      <td>no</td>\n",
              "      <td>yes</td>\n",
              "      <td>26</td>\n",
              "      <td>161.6</td>\n",
              "      <td>123</td>\n",
              "      <td>27.47</td>\n",
              "      <td>...</td>\n",
              "      <td>103</td>\n",
              "      <td>16.62</td>\n",
              "      <td>254.4</td>\n",
              "      <td>103</td>\n",
              "      <td>11.45</td>\n",
              "      <td>13.7</td>\n",
              "      <td>3</td>\n",
              "      <td>3.70</td>\n",
              "      <td>1</td>\n",
              "      <td>False</td>\n",
              "    </tr>\n",
              "    <tr>\n",
              "      <th>2</th>\n",
              "      <td>NJ</td>\n",
              "      <td>137</td>\n",
              "      <td>415</td>\n",
              "      <td>358-1921</td>\n",
              "      <td>no</td>\n",
              "      <td>no</td>\n",
              "      <td>0</td>\n",
              "      <td>243.4</td>\n",
              "      <td>114</td>\n",
              "      <td>41.38</td>\n",
              "      <td>...</td>\n",
              "      <td>110</td>\n",
              "      <td>10.30</td>\n",
              "      <td>162.6</td>\n",
              "      <td>104</td>\n",
              "      <td>7.32</td>\n",
              "      <td>12.2</td>\n",
              "      <td>5</td>\n",
              "      <td>3.29</td>\n",
              "      <td>0</td>\n",
              "      <td>False</td>\n",
              "    </tr>\n",
              "    <tr>\n",
              "      <th>3</th>\n",
              "      <td>OH</td>\n",
              "      <td>84</td>\n",
              "      <td>408</td>\n",
              "      <td>375-9999</td>\n",
              "      <td>yes</td>\n",
              "      <td>no</td>\n",
              "      <td>0</td>\n",
              "      <td>299.4</td>\n",
              "      <td>71</td>\n",
              "      <td>50.90</td>\n",
              "      <td>...</td>\n",
              "      <td>88</td>\n",
              "      <td>5.26</td>\n",
              "      <td>196.9</td>\n",
              "      <td>89</td>\n",
              "      <td>8.86</td>\n",
              "      <td>6.6</td>\n",
              "      <td>7</td>\n",
              "      <td>1.78</td>\n",
              "      <td>2</td>\n",
              "      <td>False</td>\n",
              "    </tr>\n",
              "    <tr>\n",
              "      <th>4</th>\n",
              "      <td>OK</td>\n",
              "      <td>75</td>\n",
              "      <td>415</td>\n",
              "      <td>330-6626</td>\n",
              "      <td>yes</td>\n",
              "      <td>no</td>\n",
              "      <td>0</td>\n",
              "      <td>166.7</td>\n",
              "      <td>113</td>\n",
              "      <td>28.34</td>\n",
              "      <td>...</td>\n",
              "      <td>122</td>\n",
              "      <td>12.61</td>\n",
              "      <td>186.9</td>\n",
              "      <td>121</td>\n",
              "      <td>8.41</td>\n",
              "      <td>10.1</td>\n",
              "      <td>3</td>\n",
              "      <td>2.73</td>\n",
              "      <td>3</td>\n",
              "      <td>False</td>\n",
              "    </tr>\n",
              "  </tbody>\n",
              "</table>\n",
              "<p>5 rows × 21 columns</p>\n",
              "</div>\n",
              "      <button class=\"colab-df-convert\" onclick=\"convertToInteractive('df-b987621a-ff42-407b-a825-ad69e4ac16fa')\"\n",
              "              title=\"Convert this dataframe to an interactive table.\"\n",
              "              style=\"display:none;\">\n",
              "        \n",
              "  <svg xmlns=\"http://www.w3.org/2000/svg\" height=\"24px\"viewBox=\"0 0 24 24\"\n",
              "       width=\"24px\">\n",
              "    <path d=\"M0 0h24v24H0V0z\" fill=\"none\"/>\n",
              "    <path d=\"M18.56 5.44l.94 2.06.94-2.06 2.06-.94-2.06-.94-.94-2.06-.94 2.06-2.06.94zm-11 1L8.5 8.5l.94-2.06 2.06-.94-2.06-.94L8.5 2.5l-.94 2.06-2.06.94zm10 10l.94 2.06.94-2.06 2.06-.94-2.06-.94-.94-2.06-.94 2.06-2.06.94z\"/><path d=\"M17.41 7.96l-1.37-1.37c-.4-.4-.92-.59-1.43-.59-.52 0-1.04.2-1.43.59L10.3 9.45l-7.72 7.72c-.78.78-.78 2.05 0 2.83L4 21.41c.39.39.9.59 1.41.59.51 0 1.02-.2 1.41-.59l7.78-7.78 2.81-2.81c.8-.78.8-2.07 0-2.86zM5.41 20L4 18.59l7.72-7.72 1.47 1.35L5.41 20z\"/>\n",
              "  </svg>\n",
              "      </button>\n",
              "      \n",
              "  <style>\n",
              "    .colab-df-container {\n",
              "      display:flex;\n",
              "      flex-wrap:wrap;\n",
              "      gap: 12px;\n",
              "    }\n",
              "\n",
              "    .colab-df-convert {\n",
              "      background-color: #E8F0FE;\n",
              "      border: none;\n",
              "      border-radius: 50%;\n",
              "      cursor: pointer;\n",
              "      display: none;\n",
              "      fill: #1967D2;\n",
              "      height: 32px;\n",
              "      padding: 0 0 0 0;\n",
              "      width: 32px;\n",
              "    }\n",
              "\n",
              "    .colab-df-convert:hover {\n",
              "      background-color: #E2EBFA;\n",
              "      box-shadow: 0px 1px 2px rgba(60, 64, 67, 0.3), 0px 1px 3px 1px rgba(60, 64, 67, 0.15);\n",
              "      fill: #174EA6;\n",
              "    }\n",
              "\n",
              "    [theme=dark] .colab-df-convert {\n",
              "      background-color: #3B4455;\n",
              "      fill: #D2E3FC;\n",
              "    }\n",
              "\n",
              "    [theme=dark] .colab-df-convert:hover {\n",
              "      background-color: #434B5C;\n",
              "      box-shadow: 0px 1px 3px 1px rgba(0, 0, 0, 0.15);\n",
              "      filter: drop-shadow(0px 1px 2px rgba(0, 0, 0, 0.3));\n",
              "      fill: #FFFFFF;\n",
              "    }\n",
              "  </style>\n",
              "\n",
              "      <script>\n",
              "        const buttonEl =\n",
              "          document.querySelector('#df-b987621a-ff42-407b-a825-ad69e4ac16fa button.colab-df-convert');\n",
              "        buttonEl.style.display =\n",
              "          google.colab.kernel.accessAllowed ? 'block' : 'none';\n",
              "\n",
              "        async function convertToInteractive(key) {\n",
              "          const element = document.querySelector('#df-b987621a-ff42-407b-a825-ad69e4ac16fa');\n",
              "          const dataTable =\n",
              "            await google.colab.kernel.invokeFunction('convertToInteractive',\n",
              "                                                     [key], {});\n",
              "          if (!dataTable) return;\n",
              "\n",
              "          const docLinkHtml = 'Like what you see? Visit the ' +\n",
              "            '<a target=\"_blank\" href=https://colab.research.google.com/notebooks/data_table.ipynb>data table notebook</a>'\n",
              "            + ' to learn more about interactive tables.';\n",
              "          element.innerHTML = '';\n",
              "          dataTable['output_type'] = 'display_data';\n",
              "          await google.colab.output.renderOutput(dataTable, element);\n",
              "          const docLink = document.createElement('div');\n",
              "          docLink.innerHTML = docLinkHtml;\n",
              "          element.appendChild(docLink);\n",
              "        }\n",
              "      </script>\n",
              "    </div>\n",
              "  </div>\n",
              "  "
            ]
          },
          "metadata": {},
          "execution_count": 2
        }
      ],
      "source": [
        "# importing the pandas library\n",
        "import pandas as pd\n",
        "\n",
        "# reading the csv file\n",
        "data = pd.read_csv('/content/telco_chum.csv')\n",
        "\n",
        "# previewing the first 5 rows\n",
        "data.head()"
      ]
    },
    {
      "cell_type": "markdown",
      "source": [
        "## Data description\n"
      ],
      "metadata": {
        "id": "Zaw1cXw5-wCt"
      }
    },
    {
      "cell_type": "code",
      "source": [
        "# shape of the data\n",
        "print(f'The data has {data.shape[0]} records and {data.shape[1]} columns')"
      ],
      "metadata": {
        "colab": {
          "base_uri": "https://localhost:8080/"
        },
        "id": "FnzkV1_T-0VT",
        "outputId": "f8390896-2859-4d75-9c31-575b0fddbb28"
      },
      "execution_count": 3,
      "outputs": [
        {
          "output_type": "stream",
          "name": "stdout",
          "text": [
            "The data has 3333 records and 21 columns\n"
          ]
        }
      ]
    },
    {
      "cell_type": "code",
      "source": [
        "# data types of the columns\n",
        "data.dtypes"
      ],
      "metadata": {
        "colab": {
          "base_uri": "https://localhost:8080/"
        },
        "id": "f_5-Ox5D-1nN",
        "outputId": "e909a27b-2be4-4906-c3ad-dbb63e3505f5"
      },
      "execution_count": 4,
      "outputs": [
        {
          "output_type": "execute_result",
          "data": {
            "text/plain": [
              "state                      object\n",
              "account length              int64\n",
              "area code                   int64\n",
              "phone number               object\n",
              "international plan         object\n",
              "voice mail plan            object\n",
              "number vmail messages       int64\n",
              "total day minutes         float64\n",
              "total day calls             int64\n",
              "total day charge          float64\n",
              "total eve minutes         float64\n",
              "total eve calls             int64\n",
              "total eve charge          float64\n",
              "total night minutes       float64\n",
              "total night calls           int64\n",
              "total night charge        float64\n",
              "total intl minutes        float64\n",
              "total intl calls            int64\n",
              "total intl charge         float64\n",
              "customer service calls      int64\n",
              "churn                        bool\n",
              "dtype: object"
            ]
          },
          "metadata": {},
          "execution_count": 4
        }
      ]
    },
    {
      "cell_type": "code",
      "source": [
        "# checking for missing values\n",
        "data.isnull().sum()"
      ],
      "metadata": {
        "colab": {
          "base_uri": "https://localhost:8080/"
        },
        "id": "s1bClF5n-4Yx",
        "outputId": "958867ba-cf97-488c-c501-4a1203908ab7"
      },
      "execution_count": 5,
      "outputs": [
        {
          "output_type": "execute_result",
          "data": {
            "text/plain": [
              "state                     0\n",
              "account length            0\n",
              "area code                 0\n",
              "phone number              0\n",
              "international plan        0\n",
              "voice mail plan           0\n",
              "number vmail messages     0\n",
              "total day minutes         0\n",
              "total day calls           0\n",
              "total day charge          0\n",
              "total eve minutes         0\n",
              "total eve calls           0\n",
              "total eve charge          0\n",
              "total night minutes       0\n",
              "total night calls         0\n",
              "total night charge        0\n",
              "total intl minutes        0\n",
              "total intl calls          0\n",
              "total intl charge         0\n",
              "customer service calls    0\n",
              "churn                     0\n",
              "dtype: int64"
            ]
          },
          "metadata": {},
          "execution_count": 5
        }
      ]
    },
    {
      "cell_type": "code",
      "source": [
        "# checking for duplicates\n",
        "data.duplicated().sum()"
      ],
      "metadata": {
        "colab": {
          "base_uri": "https://localhost:8080/"
        },
        "id": "lNIDfSf--8wO",
        "outputId": "cd8fb8aa-dafc-4caa-fd93-c0256ad38cb0"
      },
      "execution_count": 6,
      "outputs": [
        {
          "output_type": "execute_result",
          "data": {
            "text/plain": [
              "0"
            ]
          },
          "metadata": {},
          "execution_count": 6
        }
      ]
    },
    {
      "cell_type": "markdown",
      "source": [
        "### Dropping columns\n",
        "\n",
        "Dropped the account length, phone number columns and state columns because:\n",
        "* The phone number does not provide information about customer behavior while \n",
        "* The account length isnt a certain measure of how long the client has been a customer for this case. And it wouldnt be a valid assumption without further information.\n",
        "* The area code and state in the dataset limits the predictions within the given areas and states making prediction outside the defined locations impossible."
      ],
      "metadata": {
        "id": "gb-ib9v__HUB"
      }
    },
    {
      "cell_type": "code",
      "source": [
        "data.drop(['account length', 'phone number', 'area code', 'state'], axis=1, inplace=True)"
      ],
      "metadata": {
        "id": "Rwf11PVe6wec"
      },
      "execution_count": 7,
      "outputs": []
    },
    {
      "cell_type": "markdown",
      "source": [
        "## Data exploration"
      ],
      "metadata": {
        "id": "kgnkb9h-B2S9"
      }
    },
    {
      "cell_type": "code",
      "source": [
        "# categorical columns\n",
        "cat_columns = [ 'international plan', \n",
        "                'voice mail plan', \n",
        "                'churn']\n",
        "# continuous columns\n",
        "cont_columns = ['number vmail messages', \n",
        "                'total day minutes', \n",
        "                'total day calls', \n",
        "                'total day charge',\n",
        "                'total eve minutes',\n",
        "                'total eve calls',\n",
        "                'total eve charge',\n",
        "                'total night minutes',\n",
        "                'total night calls',\n",
        "                'total night charge',\n",
        "                'total intl minutes',\n",
        "                'total intl calls',\n",
        "                'total intl charge',\n",
        "                'customer service calls']"
      ],
      "metadata": {
        "id": "uWI3_0cS7Dai"
      },
      "execution_count": 8,
      "outputs": []
    },
    {
      "cell_type": "markdown",
      "source": [
        "### Distribution of the continuous variables"
      ],
      "metadata": {
        "id": "pBMF89YQB7cs"
      }
    },
    {
      "cell_type": "code",
      "source": [
        "# import seaborn and matplotlib.pyplot\n",
        "import seaborn as sns\n",
        "import matplotlib.pyplot as plt\n",
        "\n",
        "# Select the columns to plot\n",
        "cols = cont_columns\n",
        "\n",
        "# Set the number of rows and columns for the subplots\n",
        "nrows = 4\n",
        "ncols = 4\n",
        "\n",
        "# Create the figure and axis objects\n",
        "fig, ax = plt.subplots(nrows=nrows, ncols=ncols, figsize=(10, 8))\n",
        "\n",
        "# Flatten the axis array so that it can be iterated over easily\n",
        "ax = ax.flatten()\n",
        "\n",
        "# Loop over the columns and plot a density graph for each one\n",
        "for i, col in enumerate(cols):\n",
        "    sns.kdeplot(data[col], ax=ax[i])\n",
        "    ax[i].set_title(col)\n",
        "\n",
        "# Adjust the spacing between the subplots\n",
        "fig.tight_layout()\n",
        "\n",
        "# Show the plot\n",
        "plt.show()\n"
      ],
      "metadata": {
        "colab": {
          "base_uri": "https://localhost:8080/",
          "height": 585
        },
        "id": "QphXyn-1CBBM",
        "outputId": "dc1d7db8-48b3-450a-8b69-f5048d68be9d"
      },
      "execution_count": 9,
      "outputs": [
        {
          "output_type": "display_data",
          "data": {
            "text/plain": [
              "<Figure size 720x576 with 16 Axes>"
            ],
            "image/png": "[encoded data removed]"
          },
          "metadata": {
            "needs_background": "light"
          }
        }
      ]
    },
    {
      "cell_type": "markdown",
      "source": [
        "From the above distributions most of the columns are normally distributed except for num of vmail messages, total intl calls and customer service calls which have a right skew."
      ],
      "metadata": {
        "id": "KiPSzaPdCGDp"
      }
    },
    {
      "cell_type": "markdown",
      "source": [
        "### Distribution of the categorical variables"
      ],
      "metadata": {
        "id": "uII0N6nMCKCq"
      }
    },
    {
      "cell_type": "code",
      "source": [
        "# Select the columns to plot\n",
        "cols = cat_columns\n",
        "\n",
        "# Set the number of rows and columns for the subplots\n",
        "nrows = 2\n",
        "ncols = 2\n",
        "\n",
        "# Create the figure and axis objects\n",
        "fig, ax = plt.subplots(nrows=nrows, ncols=ncols, figsize=(10, 8))\n",
        "\n",
        "# Flatten the axis array so that it can be iterated over easily\n",
        "ax = ax.flatten()\n",
        "\n",
        "# Loop over the columns and plot a density graph for each one\n",
        "for i, col in enumerate(cols):\n",
        "    data[col].value_counts().plot(kind='bar', ax=ax[i])\n",
        "    ax[i].set_title(col)\n",
        "\n",
        "# Adjust the spacing between the subplots\n",
        "fig.tight_layout()\n",
        "\n",
        "# Show the plot\n",
        "plt.show()"
      ],
      "metadata": {
        "colab": {
          "base_uri": "https://localhost:8080/",
          "height": 585
        },
        "id": "_kdghqlvCN73",
        "outputId": "f5cbd2fd-1520-4bfc-c367-a1199ab1c39a"
      },
      "execution_count": 10,
      "outputs": [
        {
          "output_type": "display_data",
          "data": {
            "text/plain": [
              "<Figure size 720x576 with 4 Axes>"
            ],
            "image/png": "[encoded data removed]"
          },
          "metadata": {
            "needs_background": "light"
          }
        }
      ]
    },
    {
      "cell_type": "markdown",
      "source": [
        "The distribution of the international plan, voice mail plan and churn is imbalanced with yes and true outcomes having less values."
      ],
      "metadata": {
        "id": "aSGwPHlnCS3i"
      }
    },
    {
      "cell_type": "markdown",
      "source": [
        "# Data Cleaning and Preparation\n",
        "The data has no missing data or duplicates, however there are outliers in the right-skewed continous columns.\n",
        "There is also imbalance in the categorical columns."
      ],
      "metadata": {
        "id": "o0E0Tm-6CW7M"
      }
    },
    {
      "cell_type": "markdown",
      "source": [
        "## Normalizing the continuous features"
      ],
      "metadata": {
        "id": "M5eKS4eFCcCe"
      }
    },
    {
      "cell_type": "code",
      "source": [
        "from sklearn.preprocessing import StandardScaler\n",
        "\n",
        "# create an instance of the scaler\n",
        "scaler = StandardScaler()\n",
        "\n",
        "# tranforming the data\n",
        "data[cont_columns] = scaler.fit_transform(data[cont_columns])"
      ],
      "metadata": {
        "id": "mSBC51R17MOi"
      },
      "execution_count": 11,
      "outputs": []
    },
    {
      "cell_type": "markdown",
      "source": [
        "## Encoding Categorical Columns"
      ],
      "metadata": {
        "id": "xU0YlILOCxf8"
      }
    },
    {
      "cell_type": "code",
      "source": [
        "data = pd.get_dummies(data, columns=cat_columns, drop_first=True)\n",
        "\n",
        "data.head()"
      ],
      "metadata": {
        "colab": {
          "base_uri": "https://localhost:8080/",
          "height": 305
        },
        "id": "g2PrHnaW7UKj",
        "outputId": "6f612e52-ae3d-4945-a365-98856b74fe42"
      },
      "execution_count": 12,
      "outputs": [
        {
          "output_type": "execute_result",
          "data": {
            "text/plain": [
              "   number vmail messages  total day minutes  total day calls  \\\n",
              "0               1.234883           1.566767         0.476643   \n",
              "1               1.307948          -0.333738         1.124503   \n",
              "2              -0.591760           1.168304         0.675985   \n",
              "3              -0.591760           2.196596        -1.466936   \n",
              "4              -0.591760          -0.240090         0.626149   \n",
              "\n",
              "   total day charge  total eve minutes  total eve calls  total eve charge  \\\n",
              "0          1.567036          -0.070610        -0.055940         -0.070427   \n",
              "1         -0.334013          -0.108080         0.144867         -0.107549   \n",
              "2          1.168464          -1.573383         0.496279         -1.573900   \n",
              "3          2.196759          -2.742865        -0.608159         -2.743268   \n",
              "4         -0.240041          -1.038932         1.098699         -1.037939   \n",
              "\n",
              "   total night minutes  total night calls  total night charge  \\\n",
              "0             0.866743          -0.465494            0.866029   \n",
              "1             1.058571           0.147825            1.059390   \n",
              "2            -0.756869           0.198935           -0.755571   \n",
              "3            -0.078551          -0.567714           -0.078806   \n",
              "4            -0.276311           1.067803           -0.276562   \n",
              "\n",
              "   total intl minutes  total intl calls  total intl charge  \\\n",
              "0           -0.085008         -0.601195          -0.085690   \n",
              "1            1.240482         -0.601195           1.241169   \n",
              "2            0.703121          0.211534           0.697156   \n",
              "3           -1.303026          1.024263          -1.306401   \n",
              "4           -0.049184         -0.601195          -0.045885   \n",
              "\n",
              "   customer service calls  international plan_yes  voice mail plan_yes  \\\n",
              "0               -0.427932                       0                    1   \n",
              "1               -0.427932                       0                    1   \n",
              "2               -1.188218                       0                    0   \n",
              "3                0.332354                       1                    0   \n",
              "4                1.092641                       1                    0   \n",
              "\n",
              "   churn_True  \n",
              "0           0  \n",
              "1           0  \n",
              "2           0  \n",
              "3           0  \n",
              "4           0  "
            ],
            "text/html": [
              "\n",
              "  <div id=\"df-57d92c34-cd1b-44e7-ae51-5ca2420165df\">\n",
              "    <div class=\"colab-df-container\">\n",
              "      <div>\n",
              "<style scoped>\n",
              "    .dataframe tbody tr th:only-of-type {\n",
              "        vertical-align: middle;\n",
              "    }\n",
              "\n",
              "    .dataframe tbody tr th {\n",
              "        vertical-align: top;\n",
              "    }\n",
              "\n",
              "    .dataframe thead th {\n",
              "        text-align: right;\n",
              "    }\n",
              "</style>\n",
              "<table border=\"1\" class=\"dataframe\">\n",
              "  <thead>\n",
              "    <tr style=\"text-align: right;\">\n",
              "      <th></th>\n",
              "      <th>number vmail messages</th>\n",
              "      <th>total day minutes</th>\n",
              "      <th>total day calls</th>\n",
              "      <th>total day charge</th>\n",
              "      <th>total eve minutes</th>\n",
              "      <th>total eve calls</th>\n",
              "      <th>total eve charge</th>\n",
              "      <th>total night minutes</th>\n",
              "      <th>total night calls</th>\n",
              "      <th>total night charge</th>\n",
              "      <th>total intl minutes</th>\n",
              "      <th>total intl calls</th>\n",
              "      <th>total intl charge</th>\n",
              "      <th>customer service calls</th>\n",
              "      <th>international plan_yes</th>\n",
              "      <th>voice mail plan_yes</th>\n",
              "      <th>churn_True</th>\n",
              "    </tr>\n",
              "  </thead>\n",
              "  <tbody>\n",
              "    <tr>\n",
              "      <th>0</th>\n",
              "      <td>1.234883</td>\n",
              "      <td>1.566767</td>\n",
              "      <td>0.476643</td>\n",
              "      <td>1.567036</td>\n",
              "      <td>-0.070610</td>\n",
              "      <td>-0.055940</td>\n",
              "      <td>-0.070427</td>\n",
              "      <td>0.866743</td>\n",
              "      <td>-0.465494</td>\n",
              "      <td>0.866029</td>\n",
              "      <td>-0.085008</td>\n",
              "      <td>-0.601195</td>\n",
              "      <td>-0.085690</td>\n",
              "      <td>-0.427932</td>\n",
              "      <td>0</td>\n",
              "      <td>1</td>\n",
              "      <td>0</td>\n",
              "    </tr>\n",
              "    <tr>\n",
              "      <th>1</th>\n",
              "      <td>1.307948</td>\n",
              "      <td>-0.333738</td>\n",
              "      <td>1.124503</td>\n",
              "      <td>-0.334013</td>\n",
              "      <td>-0.108080</td>\n",
              "      <td>0.144867</td>\n",
              "      <td>-0.107549</td>\n",
              "      <td>1.058571</td>\n",
              "      <td>0.147825</td>\n",
              "      <td>1.059390</td>\n",
              "      <td>1.240482</td>\n",
              "      <td>-0.601195</td>\n",
              "      <td>1.241169</td>\n",
              "      <td>-0.427932</td>\n",
              "      <td>0</td>\n",
              "      <td>1</td>\n",
              "      <td>0</td>\n",
              "    </tr>\n",
              "    <tr>\n",
              "      <th>2</th>\n",
              "      <td>-0.591760</td>\n",
              "      <td>1.168304</td>\n",
              "      <td>0.675985</td>\n",
              "      <td>1.168464</td>\n",
              "      <td>-1.573383</td>\n",
              "      <td>0.496279</td>\n",
              "      <td>-1.573900</td>\n",
              "      <td>-0.756869</td>\n",
              "      <td>0.198935</td>\n",
              "      <td>-0.755571</td>\n",
              "      <td>0.703121</td>\n",
              "      <td>0.211534</td>\n",
              "      <td>0.697156</td>\n",
              "      <td>-1.188218</td>\n",
              "      <td>0</td>\n",
              "      <td>0</td>\n",
              "      <td>0</td>\n",
              "    </tr>\n",
              "    <tr>\n",
              "      <th>3</th>\n",
              "      <td>-0.591760</td>\n",
              "      <td>2.196596</td>\n",
              "      <td>-1.466936</td>\n",
              "      <td>2.196759</td>\n",
              "      <td>-2.742865</td>\n",
              "      <td>-0.608159</td>\n",
              "      <td>-2.743268</td>\n",
              "      <td>-0.078551</td>\n",
              "      <td>-0.567714</td>\n",
              "      <td>-0.078806</td>\n",
              "      <td>-1.303026</td>\n",
              "      <td>1.024263</td>\n",
              "      <td>-1.306401</td>\n",
              "      <td>0.332354</td>\n",
              "      <td>1</td>\n",
              "      <td>0</td>\n",
              "      <td>0</td>\n",
              "    </tr>\n",
              "    <tr>\n",
              "      <th>4</th>\n",
              "      <td>-0.591760</td>\n",
              "      <td>-0.240090</td>\n",
              "      <td>0.626149</td>\n",
              "      <td>-0.240041</td>\n",
              "      <td>-1.038932</td>\n",
              "      <td>1.098699</td>\n",
              "      <td>-1.037939</td>\n",
              "      <td>-0.276311</td>\n",
              "      <td>1.067803</td>\n",
              "      <td>-0.276562</td>\n",
              "      <td>-0.049184</td>\n",
              "      <td>-0.601195</td>\n",
              "      <td>-0.045885</td>\n",
              "      <td>1.092641</td>\n",
              "      <td>1</td>\n",
              "      <td>0</td>\n",
              "      <td>0</td>\n",
              "    </tr>\n",
              "  </tbody>\n",
              "</table>\n",
              "</div>\n",
              "      <button class=\"colab-df-convert\" onclick=\"convertToInteractive('df-57d92c34-cd1b-44e7-ae51-5ca2420165df')\"\n",
              "              title=\"Convert this dataframe to an interactive table.\"\n",
              "              style=\"display:none;\">\n",
              "        \n",
              "  <svg xmlns=\"http://www.w3.org/2000/svg\" height=\"24px\"viewBox=\"0 0 24 24\"\n",
              "       width=\"24px\">\n",
              "    <path d=\"M0 0h24v24H0V0z\" fill=\"none\"/>\n",
              "    <path d=\"M18.56 5.44l.94 2.06.94-2.06 2.06-.94-2.06-.94-.94-2.06-.94 2.06-2.06.94zm-11 1L8.5 8.5l.94-2.06 2.06-.94-2.06-.94L8.5 2.5l-.94 2.06-2.06.94zm10 10l.94 2.06.94-2.06 2.06-.94-2.06-.94-.94-2.06-.94 2.06-2.06.94z\"/><path d=\"M17.41 7.96l-1.37-1.37c-.4-.4-.92-.59-1.43-.59-.52 0-1.04.2-1.43.59L10.3 9.45l-7.72 7.72c-.78.78-.78 2.05 0 2.83L4 21.41c.39.39.9.59 1.41.59.51 0 1.02-.2 1.41-.59l7.78-7.78 2.81-2.81c.8-.78.8-2.07 0-2.86zM5.41 20L4 18.59l7.72-7.72 1.47 1.35L5.41 20z\"/>\n",
              "  </svg>\n",
              "      </button>\n",
              "      \n",
              "  <style>\n",
              "    .colab-df-container {\n",
              "      display:flex;\n",
              "      flex-wrap:wrap;\n",
              "      gap: 12px;\n",
              "    }\n",
              "\n",
              "    .colab-df-convert {\n",
              "      background-color: #E8F0FE;\n",
              "      border: none;\n",
              "      border-radius: 50%;\n",
              "      cursor: pointer;\n",
              "      display: none;\n",
              "      fill: #1967D2;\n",
              "      height: 32px;\n",
              "      padding: 0 0 0 0;\n",
              "      width: 32px;\n",
              "    }\n",
              "\n",
              "    .colab-df-convert:hover {\n",
              "      background-color: #E2EBFA;\n",
              "      box-shadow: 0px 1px 2px rgba(60, 64, 67, 0.3), 0px 1px 3px 1px rgba(60, 64, 67, 0.15);\n",
              "      fill: #174EA6;\n",
              "    }\n",
              "\n",
              "    [theme=dark] .colab-df-convert {\n",
              "      background-color: #3B4455;\n",
              "      fill: #D2E3FC;\n",
              "    }\n",
              "\n",
              "    [theme=dark] .colab-df-convert:hover {\n",
              "      background-color: #434B5C;\n",
              "      box-shadow: 0px 1px 3px 1px rgba(0, 0, 0, 0.15);\n",
              "      filter: drop-shadow(0px 1px 2px rgba(0, 0, 0, 0.3));\n",
              "      fill: #FFFFFF;\n",
              "    }\n",
              "  </style>\n",
              "\n",
              "      <script>\n",
              "        const buttonEl =\n",
              "          document.querySelector('#df-57d92c34-cd1b-44e7-ae51-5ca2420165df button.colab-df-convert');\n",
              "        buttonEl.style.display =\n",
              "          google.colab.kernel.accessAllowed ? 'block' : 'none';\n",
              "\n",
              "        async function convertToInteractive(key) {\n",
              "          const element = document.querySelector('#df-57d92c34-cd1b-44e7-ae51-5ca2420165df');\n",
              "          const dataTable =\n",
              "            await google.colab.kernel.invokeFunction('convertToInteractive',\n",
              "                                                     [key], {});\n",
              "          if (!dataTable) return;\n",
              "\n",
              "          const docLinkHtml = 'Like what you see? Visit the ' +\n",
              "            '<a target=\"_blank\" href=https://colab.research.google.com/notebooks/data_table.ipynb>data table notebook</a>'\n",
              "            + ' to learn more about interactive tables.';\n",
              "          element.innerHTML = '';\n",
              "          dataTable['output_type'] = 'display_data';\n",
              "          await google.colab.output.renderOutput(dataTable, element);\n",
              "          const docLink = document.createElement('div');\n",
              "          docLink.innerHTML = docLinkHtml;\n",
              "          element.appendChild(docLink);\n",
              "        }\n",
              "      </script>\n",
              "    </div>\n",
              "  </div>\n",
              "  "
            ]
          },
          "metadata": {},
          "execution_count": 12
        }
      ]
    },
    {
      "cell_type": "markdown",
      "source": [
        "# Modelling\n",
        "### Importing Modelling and Evaluation Libraries"
      ],
      "metadata": {
        "id": "m6V-pNlXC--y"
      }
    },
    {
      "cell_type": "code",
      "source": [
        "# importing the libraries\n",
        "from sklearn.linear_model import LogisticRegression\n",
        "from sklearn.model_selection import train_test_split\n",
        "from sklearn.metrics import accuracy_score, precision_score, recall_score, f1_score"
      ],
      "metadata": {
        "id": "sTC17WbT7bI-"
      },
      "execution_count": 13,
      "outputs": []
    },
    {
      "cell_type": "markdown",
      "source": [
        "### Defining our Predators and Target features"
      ],
      "metadata": {
        "id": "EZVN_0HQDLNi"
      }
    },
    {
      "cell_type": "code",
      "source": [
        "# target\n",
        "y = data['churn_True']\n",
        "\n",
        "# predators\n",
        "X = data.drop('churn_True', axis=1)"
      ],
      "metadata": {
        "id": "6Ep4LMM87fpS"
      },
      "execution_count": 14,
      "outputs": []
    },
    {
      "cell_type": "markdown",
      "source": [
        "### Performing the Train Test Split"
      ],
      "metadata": {
        "id": "Dl8GS1KEDQMC"
      }
    },
    {
      "cell_type": "code",
      "source": [
        "# train test split with random state set at 42 and test size at 25%\n",
        "\n",
        "X_train, X_test, y_train, y_test = train_test_split(X, y, random_state=42, test_size=0.25)"
      ],
      "metadata": {
        "id": "pHASGr2k7kYJ"
      },
      "execution_count": 15,
      "outputs": []
    },
    {
      "cell_type": "markdown",
      "source": [
        "### Fitting the Model"
      ],
      "metadata": {
        "id": "4Q6aSqgYDbP5"
      }
    },
    {
      "cell_type": "code",
      "source": [
        "# creating an instance of a Logistic Regression model\n",
        "lr = LogisticRegression()\n",
        "\n",
        "# fitting the model on the train data\n",
        "lr.fit(X_train, y_train)"
      ],
      "metadata": {
        "colab": {
          "base_uri": "https://localhost:8080/"
        },
        "id": "wcaK3D2w7nm1",
        "outputId": "5037bea0-7805-4f9f-cd9e-b9b8742e55ae"
      },
      "execution_count": 16,
      "outputs": [
        {
          "output_type": "execute_result",
          "data": {
            "text/plain": [
              "LogisticRegression()"
            ]
          },
          "metadata": {},
          "execution_count": 16
        }
      ]
    },
    {
      "cell_type": "markdown",
      "source": [
        "### Making Predictions"
      ],
      "metadata": {
        "id": "sBGS1evODftF"
      }
    },
    {
      "cell_type": "code",
      "source": [
        "# making predictions using the test data\n",
        "y_train_pred = lr.predict(X_train)\n",
        "y_test_pred = lr.predict(X_test)"
      ],
      "metadata": {
        "id": "oSsSdM9Y7qw9"
      },
      "execution_count": 17,
      "outputs": []
    },
    {
      "cell_type": "markdown",
      "source": [
        "# Model Evaluation"
      ],
      "metadata": {
        "id": "1vfWoTqADnxo"
      }
    },
    {
      "cell_type": "code",
      "source": [
        "# evaluating the model\n",
        "train_f1_score = f1_score(y_train, y_train_pred)\n",
        "test_f1_score = f1_score(y_test, y_test_pred)\n",
        "\n",
        "train_acc_score = accuracy_score(y_train, y_train_pred)\n",
        "test_acc_score = accuracy_score(y_test, y_test_pred)\n",
        "\n",
        "train_prec_score = precision_score(y_train, y_train_pred)\n",
        "test_prec_score = precision_score(y_test, y_test_pred)\n",
        "\n",
        "train_rec_score = recall_score(y_train, y_train_pred)\n",
        "test_rec_score = recall_score(y_test, y_test_pred)\n",
        "\n",
        "print(f'The F1 Score of the Train Data is {train_f1_score}')\n",
        "print(f' The F1 Score of the Test Data is {test_f1_score}')\n",
        "\n",
        "print(\"**************************************************\")\n",
        "\n",
        "print(f'The Accuracy Score of the Train Data is {train_acc_score}')\n",
        "print(f' The Accuracy Score of the Test Data is {test_acc_score}')\n",
        "\n",
        "print(\"**************************************************\")\n",
        "\n",
        "print(f'The Precision Score of the Train Data is {train_prec_score}')\n",
        "print(f' The Precision Score of the Test Data is {test_prec_score}')\n",
        "\n",
        "print(\"**************************************************\")\n",
        "\n",
        "print(f'The Recall Score of the Train Data is {train_rec_score}')\n",
        "print(f' The Recall Score of the Test Data is {test_rec_score}')"
      ],
      "metadata": {
        "colab": {
          "base_uri": "https://localhost:8080/"
        },
        "id": "yi1HpAqV7t1X",
        "outputId": "e40f5fb3-03bc-4ecd-b55c-c74e76edcf45"
      },
      "execution_count": 18,
      "outputs": [
        {
          "output_type": "stream",
          "name": "stdout",
          "text": [
            "The F1 Score of the Train Data is 0.30612244897959184\n",
            " The F1 Score of the Test Data is 0.2891566265060241\n",
            "**************************************************\n",
            "The Accuracy Score of the Train Data is 0.8639455782312925\n",
            " The Accuracy Score of the Test Data is 0.8585131894484412\n",
            "**************************************************\n",
            "The Precision Score of the Train Data is 0.5681818181818182\n",
            " The Precision Score of the Test Data is 0.5853658536585366\n",
            "**************************************************\n",
            "The Recall Score of the Train Data is 0.20949720670391062\n",
            " The Recall Score of the Test Data is 0.192\n"
          ]
        }
      ]
    },
    {
      "cell_type": "markdown",
      "source": [
        "In this case precision and recall are more relevant evaluation metrics than accuracy. Precision refers to the number of true positive predictions (customers who are correctly predicted to churn) divided by the sum of true positive predictions and false positive predictions (customers who are incorrectly predicted to churn). Recall refers to the number of true positive predictions divided by the sum of true positive predictions and false negatives (customers who are not predicted to churn but actually do).\n",
        "\n",
        "The F1 score is a balanced measure of precision and recall and is often used as a single metric to evaluate models in imbalanced datasets, like the case of customer churn. A high F1 score indicates that the model has a good balance between precision and recall.\n",
        "\n",
        "From the above scores a Logistic regression model is not a good model fit for the telco data. This therefor necessitates use of another classification model (Decision Tree Classifier)."
      ],
      "metadata": {
        "id": "sqyeJqazDtZb"
      }
    },
    {
      "cell_type": "markdown",
      "source": [
        "### Fitting, Prediction and Evaluation using a Decision Tree Classifier"
      ],
      "metadata": {
        "id": "kpWr9ThADxqz"
      }
    },
    {
      "cell_type": "code",
      "source": [
        "# fitting decision trees\n",
        "from sklearn.tree import DecisionTreeClassifier\n",
        "\n",
        "# initating an instance of the classifier\n",
        "dt = DecisionTreeClassifier()\n",
        "\n",
        "# fitting the data\n",
        "dt.fit(X_train, y_train)\n",
        "\n",
        "# predict using the model\n",
        "dt_y_train_pred = dt.predict(X_train)\n",
        "dt_y_test_pred = dt.predict(X_test)\n",
        "\n",
        "# evaluation of the model\n",
        "dt_train_f1_score = f1_score(y_train, dt_y_train_pred)\n",
        "dt_test_f1_score = f1_score(y_test, dt_y_test_pred)\n",
        "\n",
        "dt_train_acc_score = accuracy_score(y_train, dt_y_train_pred)\n",
        "dt_test_acc_score = accuracy_score(y_test, dt_y_test_pred)\n",
        "\n",
        "dt_train_prec_score = precision_score(y_train, dt_y_train_pred)\n",
        "dt_test_prec_score = precision_score(y_test, dt_y_test_pred)\n",
        "\n",
        "dt_train_rec_score = recall_score(y_train, dt_y_train_pred)\n",
        "dt_test_rec_score = recall_score(y_test, dt_y_test_pred)\n",
        "\n",
        "\n",
        "print(f'The F1 Score of the Train Data is {dt_train_f1_score}')\n",
        "print(f' The F1 Score of the Test Data is {dt_test_f1_score}')\n",
        "\n",
        "print(\"**************************************************\")\n",
        "\n",
        "print(f'The Accuracy Score of the Train Data is {dt_train_acc_score}')\n",
        "print(f' The Accuracy Score of the Test Data is {dt_test_acc_score}')\n",
        "\n",
        "print(\"**************************************************\")\n",
        "\n",
        "print(f'The Precision Score of the Train Data is {dt_train_prec_score}')\n",
        "print(f' The Precision Score of the Test Data is {dt_test_prec_score}')\n",
        "\n",
        "print(\"**************************************************\")\n",
        "\n",
        "print(f'The Recall Score of the Train Data is {dt_train_rec_score}')\n",
        "print(f' The Recall Score of the Test Data is {dt_test_rec_score}')"
      ],
      "metadata": {
        "colab": {
          "base_uri": "https://localhost:8080/"
        },
        "id": "aJJKxNrW7x1U",
        "outputId": "9ab60869-a453-4cc4-df7c-953620117ac8"
      },
      "execution_count": 19,
      "outputs": [
        {
          "output_type": "stream",
          "name": "stdout",
          "text": [
            "The F1 Score of the Train Data is 1.0\n",
            " The F1 Score of the Test Data is 0.7300380228136881\n",
            "**************************************************\n",
            "The Accuracy Score of the Train Data is 1.0\n",
            " The Accuracy Score of the Test Data is 0.9148681055155875\n",
            "**************************************************\n",
            "The Precision Score of the Train Data is 1.0\n",
            " The Precision Score of the Test Data is 0.6956521739130435\n",
            "**************************************************\n",
            "The Recall Score of the Train Data is 1.0\n",
            " The Recall Score of the Test Data is 0.768\n"
          ]
        }
      ]
    },
    {
      "cell_type": "markdown",
      "source": [
        "Between the two baseline models (Logistic Regression and Decision Tree Classifier), the Decision tree model outperforms the Logistic regression model on all metrics. This indicates that a Decision Tree model is a better classifier of our dataset and further tuning would most likely improve the performance."
      ],
      "metadata": {
        "id": "qQMahj6cEGdh"
      }
    },
    {
      "cell_type": "markdown",
      "source": [
        "### Dealing with Class inbalance Decision Tree Model"
      ],
      "metadata": {
        "id": "3Xqh6AErESMI"
      }
    },
    {
      "cell_type": "code",
      "source": [
        "from imblearn.over_sampling import SMOTE\n",
        "\n",
        "# Previous original class distribution\n",
        "print(y_train.value_counts())\n",
        "\n",
        "# Fit SMOTE to training data\n",
        "X_train_resampled, y_train_resampled = SMOTE().fit_resample(X_train, y_train)\n",
        "\n",
        "# Preview synthetic sample class distribution\n",
        "print('\\n')\n",
        "print(pd.Series(y_train_resampled).value_counts()) "
      ],
      "metadata": {
        "colab": {
          "base_uri": "https://localhost:8080/"
        },
        "id": "upFIiZlV8HNq",
        "outputId": "7c5ddf24-8f99-4b88-bebe-3fb18653b98e"
      },
      "execution_count": 20,
      "outputs": [
        {
          "output_type": "stream",
          "name": "stdout",
          "text": [
            "0    2141\n",
            "1     358\n",
            "Name: churn_True, dtype: int64\n",
            "\n",
            "\n",
            "0    2141\n",
            "1    2141\n",
            "Name: churn_True, dtype: int64\n"
          ]
        }
      ]
    },
    {
      "cell_type": "markdown",
      "source": [
        "### Fitting the model with the resampled data"
      ],
      "metadata": {
        "id": "Wt7SVLR6EaS4"
      }
    },
    {
      "cell_type": "code",
      "source": [
        "# initializing a new model\n",
        "dt2 = DecisionTreeClassifier()\n",
        "\n",
        "# fitting the new model on the resampled data\n",
        "dt2.fit(X_train_resampled, y_train_resampled)\n",
        "\n",
        "# predict using the model\n",
        "dt2_y_test_pred = dt2.predict(X_test)\n",
        "\n",
        "# evaluation of the model\n",
        "dt2_test_f1_score = f1_score(y_test, dt2_y_test_pred)\n",
        "\n",
        "dt2_test_acc_score = accuracy_score(y_test, dt2_y_test_pred)\n",
        "\n",
        "dt2_test_prec_score = precision_score(y_test, dt2_y_test_pred)\n",
        "\n",
        "dt2_test_rec_score = recall_score(y_test, dt2_y_test_pred)\n",
        "\n",
        "\n",
        "\n",
        "print(f' The F1 Score of the Test Data is {dt2_test_f1_score}')\n",
        "\n",
        "print(\"**************************************************\")\n",
        "\n",
        "print(f' The Accuracy Score of the Test Data is {dt2_test_acc_score}')\n",
        "\n",
        "print(\"**************************************************\")\n",
        "\n",
        "print(f' The Precision Score of the Test Data is {dt2_test_prec_score}')\n",
        "\n",
        "print(\"**************************************************\")\n",
        "\n",
        "print(f' The Recall Score of the Test Data is {dt2_test_rec_score}')\n"
      ],
      "metadata": {
        "colab": {
          "base_uri": "https://localhost:8080/"
        },
        "id": "xoayu9xx8TDH",
        "outputId": "3fb17605-0e73-4848-a7dd-4df5f1e491b1"
      },
      "execution_count": 21,
      "outputs": [
        {
          "output_type": "stream",
          "name": "stdout",
          "text": [
            " The F1 Score of the Test Data is 0.6756756756756757\n",
            "**************************************************\n",
            " The Accuracy Score of the Test Data is 0.8848920863309353\n",
            "**************************************************\n",
            " The Precision Score of the Test Data is 0.5847953216374269\n",
            "**************************************************\n",
            " The Recall Score of the Test Data is 0.8\n"
          ]
        }
      ]
    },
    {
      "cell_type": "markdown",
      "source": [
        "Dealing with class imbalance using SMOTE reduced metric scores, however the model can make more accurate predictions for the minority class which is the class of clients who churn.This is key for this analysis since being able to predict clients who will most likely churn can call for certain targetted strategies to retain them."
      ],
      "metadata": {
        "id": "IOzmfXFEExkt"
      }
    },
    {
      "cell_type": "markdown",
      "source": [
        "### Hper-parameter Tuning using GridSearchCV"
      ],
      "metadata": {
        "id": "89GQ5G3KE5vp"
      }
    },
    {
      "cell_type": "code",
      "source": [
        "from sklearn.model_selection import GridSearchCV\n",
        "\n",
        "# Define the model\n",
        "dt3 = DecisionTreeClassifier()\n",
        "\n",
        "# Define the parameter grid to search through\n",
        "param_grid = {'criterion': ['gini', 'entropy'],\n",
        "              'max_depth': [2, 4, 6, 8, 10],\n",
        "              'min_samples_split': [2, 4, 6, 8, 10],\n",
        "              'min_samples_leaf': [1, 2, 3, 4, 5]}\n",
        "\n",
        "# scores\n",
        "scores = ['f1', 'recall', 'precision']\n",
        "\n",
        "# Create a grid search object using 10-fold cross-validation\n",
        "grid_search = GridSearchCV(dt3, param_grid, cv=5, scoring= scores, refit='f1')\n",
        "\n",
        "# Fit the grid search to the data\n",
        "grid_search.fit(X_train_resampled, y_train_resampled)\n",
        "\n",
        "# Get the best parameters from the grid search\n",
        "best_params = grid_search.best_params_\n",
        "\n",
        "# Print the best parameters and the best score\n",
        "print(\"Best Parameters:\", best_params)\n",
        "print(\"Best Scores:\", grid_search.best_score_)\n",
        "# print(\"Best recall Score:\", grid_search.best_score_)\n",
        "# print(\"Best precision Score:\", grid_search.best_score_)"
      ],
      "metadata": {
        "colab": {
          "base_uri": "https://localhost:8080/"
        },
        "id": "CkBZnuDC8W6X",
        "outputId": "9f4132e4-e2a3-4cd8-8b77-42aa0f7682d9"
      },
      "execution_count": 22,
      "outputs": [
        {
          "output_type": "stream",
          "name": "stdout",
          "text": [
            "Best Parameters: {'criterion': 'entropy', 'max_depth': 10, 'min_samples_leaf': 1, 'min_samples_split': 4}\n",
            "Best Scores: 0.8916840776039194\n"
          ]
        }
      ]
    },
    {
      "cell_type": "markdown",
      "source": [
        "Using GridSearchCV we got the best f1 score of 0.9037 with the best combination of hyper parameters being:\n",
        "* criterion: \"entropy\"\n",
        "* max_depth: 10\n",
        "* min_samples_leaf: 1\n",
        "* min_samples_split: 4"
      ],
      "metadata": {
        "id": "P8fJv7TyFDq1"
      }
    },
    {
      "cell_type": "code",
      "source": [
        "# defining the model with optimal hyper parameters\n",
        "dt3_tuned = DecisionTreeClassifier(criterion='entropy', \n",
        "                                   max_depth=10,\n",
        "                                   min_samples_leaf=1,\n",
        "                                   min_samples_split=4)\n",
        "\n",
        "# fitting the model\n",
        "dt3_tuned.fit(X_train_resampled, y_train_resampled)\n",
        "\n",
        "# making predictions of the test data\n",
        "dt3_y_pred = dt3_tuned.predict(X_test)\n",
        "\n",
        "\n",
        "# evaluating of the model\n",
        "dt3_f1_score = f1_score(y_test, dt3_y_pred)\n",
        "\n",
        "dt3_acc_score = accuracy_score(y_test, dt3_y_pred)\n",
        "\n",
        "dt3_prec_score = precision_score(y_test, dt3_y_pred)\n",
        "\n",
        "dt3_rec_score = recall_score(y_test, dt3_y_pred)\n",
        "\n",
        "\n",
        "\n",
        "print(f' The F1 Score of the Test Data is {dt3_f1_score}')\n",
        "\n",
        "print(\"**************************************************\")\n",
        "\n",
        "print(f' The Accuracy Score of the Test Data is {dt3_acc_score}')\n",
        "\n",
        "print(\"**************************************************\")\n",
        "\n",
        "print(f' The Precision Score of the Test Data is {dt3_prec_score}')\n",
        "\n",
        "print(\"**************************************************\")\n",
        "\n",
        "print(f' The Recall Score of the Test Data is {dt3_rec_score}')"
      ],
      "metadata": {
        "colab": {
          "base_uri": "https://localhost:8080/"
        },
        "id": "_neR42ut8o5w",
        "outputId": "f57a0483-d543-4202-d0a0-d5bb793c92a6"
      },
      "execution_count": 31,
      "outputs": [
        {
          "output_type": "stream",
          "name": "stdout",
          "text": [
            " The F1 Score of the Test Data is 0.7888446215139442\n",
            "**************************************************\n",
            " The Accuracy Score of the Test Data is 0.9364508393285371\n",
            "**************************************************\n",
            " The Precision Score of the Test Data is 0.7857142857142857\n",
            "**************************************************\n",
            " The Recall Score of the Test Data is 0.792\n"
          ]
        }
      ]
    },
    {
      "cell_type": "markdown",
      "source": [
        "Tuning the Decision Tree Classifier with the best hyper parameters yields scores as below:\n",
        "\n",
        "* F1 score increase from 0.7318 in dt2 to 0.7716 in dt3.\n",
        "* Accuracy score increases from 0.9112 in dt2 to 0.9304 in dt3.\n",
        "* Precision score increases from 0.6688 in dt2 to 0.7596 in dt3.\n",
        "* Recall score decreased from 0.808 in dt2 to 0.784 in dt3."
      ],
      "metadata": {
        "id": "71ai88bKFSqH"
      }
    },
    {
      "cell_type": "markdown",
      "source": [
        "### Tree Based Feature Selection"
      ],
      "metadata": {
        "id": "cdl-jIanGU1z"
      }
    },
    {
      "cell_type": "code",
      "source": [
        "# import SelectFromModel\n",
        "from sklearn.feature_selection import SelectFromModel\n",
        "\n",
        "\n",
        "# Train a decision tree classifier\n",
        "dt4 = DecisionTreeClassifier(criterion='entropy', \n",
        "                                   max_depth=10,\n",
        "                                   min_samples_leaf=1,\n",
        "                                   min_samples_split=2)\n",
        "dt4.fit(X_train_resampled, y_train_resampled)\n",
        "\n",
        "# Select features based on feature importances\n",
        "selector = SelectFromModel(dt4, prefit=True)\n",
        "X_train_new = selector.transform(X_train_resampled)\n",
        "X_test_new = selector.transform(X_test)"
      ],
      "metadata": {
        "colab": {
          "base_uri": "https://localhost:8080/"
        },
        "id": "CSnrbnze9PSz",
        "outputId": "4a2c4cfc-80bf-4c69-b03e-081e1cdfc7dd"
      },
      "execution_count": 24,
      "outputs": [
        {
          "output_type": "stream",
          "name": "stderr",
          "text": [
            "/usr/local/lib/python3.8/dist-packages/sklearn/base.py:443: UserWarning: X has feature names, but SelectFromModel was fitted without feature names\n",
            "  warnings.warn(\n",
            "/usr/local/lib/python3.8/dist-packages/sklearn/base.py:443: UserWarning: X has feature names, but SelectFromModel was fitted without feature names\n",
            "  warnings.warn(\n"
          ]
        }
      ]
    },
    {
      "cell_type": "markdown",
      "source": [
        "### Fitting a Decision Tree Model with Selected Features"
      ],
      "metadata": {
        "id": "ZnMOHyTuGaya"
      }
    },
    {
      "cell_type": "code",
      "source": [
        "# training a Decision Tree classifier with Selected features\n",
        "\n",
        "# initializing a tuned DecisionTreeClassifier\n",
        "dt5 = DecisionTreeClassifier(criterion='entropy', \n",
        "                                   max_depth=10,\n",
        "                                   min_samples_leaf=1,\n",
        "                                   min_samples_split=2)\n",
        "\n",
        "# fit the classifier with the new selected features (X_new)\n",
        "dt5.fit(X_train_new, y_train_resampled)\n",
        "\n",
        "# making predictions of the test data\n",
        "dt5_y_pred = dt5.predict(X_test_new)\n",
        "\n",
        "\n",
        "# evaluating of the model\n",
        "dt5_f1_score = f1_score(y_test, dt5_y_pred)\n",
        "\n",
        "dt5_acc_score = accuracy_score(y_test, dt5_y_pred)\n",
        "\n",
        "dt5_prec_score = precision_score(y_test, dt5_y_pred)\n",
        "\n",
        "dt5_rec_score = recall_score(y_test, dt5_y_pred)\n",
        "\n",
        "\n",
        "\n",
        "print(f' The F1 Score of the Test Data is {dt5_f1_score}')\n",
        "\n",
        "print(\"**************************************************\")\n",
        "\n",
        "print(f' The Accuracy Score of the Test Data is {dt5_acc_score}')\n",
        "\n",
        "print(\"**************************************************\")\n",
        "\n",
        "print(f' The Precision Score of the Test Data is {dt5_prec_score}')\n",
        "\n",
        "print(\"**************************************************\")\n",
        "\n",
        "print(f' The Recall Score of the Test Data is {dt5_rec_score}')"
      ],
      "metadata": {
        "colab": {
          "base_uri": "https://localhost:8080/"
        },
        "id": "LCiwmE1h9yBh",
        "outputId": "0cadb56a-0234-435a-ae12-51b9bf23c718"
      },
      "execution_count": 25,
      "outputs": [
        {
          "output_type": "stream",
          "name": "stdout",
          "text": [
            " The F1 Score of the Test Data is 0.6083650190114068\n",
            "**************************************************\n",
            " The Accuracy Score of the Test Data is 0.8764988009592326\n",
            "**************************************************\n",
            " The Precision Score of the Test Data is 0.5797101449275363\n",
            "**************************************************\n",
            " The Recall Score of the Test Data is 0.64\n"
          ]
        }
      ]
    },
    {
      "cell_type": "markdown",
      "source": [
        "After Feature selection the perfomance of the Decision Tree Classifier decreased with an F1 score of 0.6083 compared to d3 which yielded an F1 score of 0.7716."
      ],
      "metadata": {
        "id": "zO-6d74hGqAs"
      }
    },
    {
      "cell_type": "markdown",
      "source": [
        "## Fitting a Random Forest Model"
      ],
      "metadata": {
        "id": "Lv-7hbW9SANJ"
      }
    },
    {
      "cell_type": "code",
      "source": [
        "from sklearn.ensemble import RandomForestClassifier\n",
        "\n",
        "# Train the random forest classifier\n",
        "rf = RandomForestClassifier(n_estimators=100, random_state=42)\n",
        "rf.fit(X_train_resampled, y_train_resampled)\n",
        "\n",
        "# Make predictions on the test data\n",
        "rf_y_pred = rf.predict(X_test)\n",
        "\n",
        "# Evaluate the model's accuracy\n",
        "\n",
        "rf_f1_score = f1_score(y_test, rf_y_pred)\n",
        "\n",
        "rf_acc_score = accuracy_score(y_test, rf_y_pred)\n",
        "\n",
        "rf_prec_score = precision_score(y_test, rf_y_pred)\n",
        "\n",
        "rf_rec_score = recall_score(y_test, rf_y_pred)\n",
        "\n",
        "\n",
        "\n",
        "print(f' The F1 Score is {rf_f1_score}')\n",
        "\n",
        "print(\"**************************************************\")\n",
        "\n",
        "print(f' The Accuracy Score is {rf_acc_score}')\n",
        "\n",
        "print(\"**************************************************\")\n",
        "\n",
        "print(f' The Precision Score is {rf_prec_score}')\n",
        "\n",
        "print(\"**************************************************\")\n",
        "\n",
        "print(f' The Recall Score is {rf_rec_score}')\n"
      ],
      "metadata": {
        "colab": {
          "base_uri": "https://localhost:8080/"
        },
        "id": "fNe_tfROSKvG",
        "outputId": "e4cfc548-1e0e-4b67-d7fb-90c027f15603"
      },
      "execution_count": 29,
      "outputs": [
        {
          "output_type": "stream",
          "name": "stdout",
          "text": [
            " The F1 Score is 0.8081632653061225\n",
            "**************************************************\n",
            " The Accuracy Score is 0.9436450839328537\n",
            "**************************************************\n",
            " The Precision Score is 0.825\n",
            "**************************************************\n",
            " The Recall Score is 0.792\n"
          ]
        }
      ]
    },
    {
      "cell_type": "markdown",
      "source": [
        "## Hyper- parameter Tuning For a Random Forest Model"
      ],
      "metadata": {
        "id": "Y6oGij35Xg0S"
      }
    },
    {
      "cell_type": "code",
      "source": [
        "# Define the parameter grid to search through\n",
        "param_grid = {\n",
        "    'n_estimators': [100, 150, 200],\n",
        "    'max_depth': [5, 10, 15],\n",
        "    'min_samples_split': [2, 5, 10],\n",
        "    'min_samples_leaf': [1, 2, 4]}\n",
        "\n",
        "# scores\n",
        "scores = ['f1', 'recall', 'precision']\n",
        "\n",
        "# Create a grid search object using 10-fold cross-validation\n",
        "grid_search = GridSearchCV(rf, param_grid, cv=5, scoring= scores, refit='f1')\n",
        "\n",
        "# Fit the grid search to the data\n",
        "grid_search.fit(X_train_resampled, y_train_resampled)\n",
        "\n",
        "# Get the best parameters from the grid search\n",
        "best_params = grid_search.best_params_\n",
        "\n",
        "# Print the best parameters and the best score\n",
        "print(\"Best Parameters:\", best_params)\n",
        "print(\"Best Scores:\", grid_search.best_score_)\n",
        "# print(\"Best recall Score:\", grid_search.best_score_)\n",
        "# print(\"Best precision Score:\", grid_search.best_score_)"
      ],
      "metadata": {
        "colab": {
          "base_uri": "https://localhost:8080/"
        },
        "id": "-Cb4KvJ8XpIm",
        "outputId": "f6f79c2f-6989-4c44-9cde-389d9b01418b"
      },
      "execution_count": 32,
      "outputs": [
        {
          "output_type": "stream",
          "name": "stdout",
          "text": [
            "Best Parameters: {'max_depth': 15, 'min_samples_leaf': 1, 'min_samples_split': 2, 'n_estimators': 150}\n",
            "Best Scores: 0.9499430157808595\n"
          ]
        }
      ]
    },
    {
      "cell_type": "markdown",
      "source": [
        "Using GridSearchCV we got the best f1 score of 0.9499 with the best combination of hyper parameters being:\n",
        "* max_depth: 15\n",
        "* min_samples_leaf: 1\n",
        "* min_samples_split: 2\n",
        "* n_estimators: 150"
      ],
      "metadata": {
        "id": "qLX-ifL3sI2g"
      }
    },
    {
      "cell_type": "markdown",
      "source": [
        "## Fitting the RandomForestClassifier with the best parameters"
      ],
      "metadata": {
        "id": "ML6Wj6cnaYfh"
      }
    },
    {
      "cell_type": "code",
      "source": [
        "# Train the random forest classifier\n",
        "rf2 = RandomForestClassifier(n_estimators=150,\n",
        "                             random_state=42,\n",
        "                             max_depth=15,\n",
        "                             min_samples_leaf=1,\n",
        "                             min_samples_split=2)\n",
        "rf2.fit(X_train_resampled, y_train_resampled)\n",
        "\n",
        "# Make predictions on the test data\n",
        "rf2_y_pred = rf2.predict(X_test)\n",
        "\n",
        "# Evaluate the model's accuracy\n",
        "\n",
        "rf2_f1_score = f1_score(y_test, rf2_y_pred)\n",
        "\n",
        "rf2_acc_score = accuracy_score(y_test, rf2_y_pred)\n",
        "\n",
        "rf2_prec_score = precision_score(y_test, rf2_y_pred)\n",
        "\n",
        "rf2_rec_score = recall_score(y_test, rf2_y_pred)\n",
        "\n",
        "\n",
        "\n",
        "print(f' The F1 Score is {rf2_f1_score}')\n",
        "\n",
        "print(\"**************************************************\")\n",
        "\n",
        "print(f' The Accuracy Score is {rf2_acc_score}')\n",
        "\n",
        "print(\"**************************************************\")\n",
        "\n",
        "print(f' The Precision Score is {rf2_prec_score}')\n",
        "\n",
        "print(\"**************************************************\")\n",
        "\n",
        "print(f' The Recall Score is {rf2_rec_score}')"
      ],
      "metadata": {
        "colab": {
          "base_uri": "https://localhost:8080/"
        },
        "id": "ABQtiKvIaOsv",
        "outputId": "13b65c71-07b9-46f6-d17b-198cca42cf2c"
      },
      "execution_count": 33,
      "outputs": [
        {
          "output_type": "stream",
          "name": "stdout",
          "text": [
            " The F1 Score is 0.8145161290322582\n",
            "**************************************************\n",
            " The Accuracy Score is 0.9448441247002398\n",
            "**************************************************\n",
            " The Precision Score is 0.8211382113821138\n",
            "**************************************************\n",
            " The Recall Score is 0.808\n"
          ]
        }
      ]
    },
    {
      "cell_type": "markdown",
      "source": [
        "Tuning the Random Forest Classifier with the best hyper parameters yields scores as below:\n",
        "\n",
        "* F1 score 0.8145.\n",
        "* Accuracy score 0.9448\n",
        "* Precision score 0.8211\n",
        "* Recall score 0.808"
      ],
      "metadata": {
        "id": "bd31uWzjsmj1"
      }
    },
    {
      "cell_type": "markdown",
      "source": [
        "## False Positive and False Negative Trade Off\n",
        "In our business case, we cannot risk loosing a customer by classifying them as not likely to churn (False Negatives) and they end up churning. We would rather classify client's as False positive and apply retention strategies on them. \n",
        "This necessitated adjusting our model threshold to better our recall score of 0.808 in rf2."
      ],
      "metadata": {
        "id": "xkz10J22bhAj"
      }
    },
    {
      "cell_type": "code",
      "source": [
        "# Predict class probabilities\n",
        "y_probs = rf2.predict_proba(X_test)\n",
        "\n",
        "# Set the threshold for positive class prediction\n",
        "threshold = 0.4 \n",
        "y_pred = (y_probs[:, 1] >= threshold).astype(int)\n",
        "\n",
        "# Evaluate the performance\n",
        "print(\"Accuracy:\", accuracy_score(y_test, y_pred))\n",
        "print(\"Precision:\", precision_score(y_test, y_pred))\n",
        "print(\"Recall:\", recall_score(y_test, y_pred))\n",
        "print(\"F1 Score:\", f1_score(y_test, y_pred))"
      ],
      "metadata": {
        "colab": {
          "base_uri": "https://localhost:8080/"
        },
        "id": "gPQVfdWZbm9_",
        "outputId": "ac9bc89b-9ad4-4e2e-e179-11fcf848b2da"
      },
      "execution_count": 34,
      "outputs": [
        {
          "output_type": "stream",
          "name": "stdout",
          "text": [
            "Accuracy: 0.9376498800959233\n",
            "Precision: 0.7588652482269503\n",
            "Recall: 0.856\n",
            "F1 Score: 0.8045112781954887\n"
          ]
        }
      ]
    },
    {
      "cell_type": "markdown",
      "source": [
        "By adjusting the threshold from the default 0.5 to 0.4 (which reduces the probability of getting False Negatives and increasing the probability of False positives.) the model recall improved to 0.856 as anticipated.\n",
        "This is a more suited model for our business case since it reduces the chances of lossing customers who were wrongly classified."
      ],
      "metadata": {
        "id": "KtepUggIc44V"
      }
    },
    {
      "cell_type": "markdown",
      "source": [
        "## Feature Importance"
      ],
      "metadata": {
        "id": "claObj5zdFQb"
      }
    },
    {
      "cell_type": "code",
      "source": [
        "# Get the feature importances\n",
        "importances = rf2.feature_importances_\n",
        "\n",
        "# Create a dataframe to store the feature importances\n",
        "feature_importances = pd.DataFrame({'feature': X_train.columns, 'importance': importances})\n",
        "\n",
        "# Sort the dataframe by the feature importances in descending order\n",
        "feature_importances = feature_importances.sort_values('importance', ascending=False)\n",
        "\n",
        "# Print the first few rows of the feature importances\n",
        "print(feature_importances.head())"
      ],
      "metadata": {
        "colab": {
          "base_uri": "https://localhost:8080/"
        },
        "id": "o9SKYlIEdNZP",
        "outputId": "5854c9fc-0551-4c00-bc63-be1b9693d125"
      },
      "execution_count": 36,
      "outputs": [
        {
          "output_type": "stream",
          "name": "stdout",
          "text": [
            "                   feature  importance\n",
            "13  customer service calls    0.188038\n",
            "1        total day minutes    0.125113\n",
            "3         total day charge    0.120041\n",
            "11        total intl calls    0.091361\n",
            "6         total eve charge    0.058763\n"
          ]
        }
      ]
    },
    {
      "cell_type": "code",
      "source": [
        "import matplotlib.pyplot as plt\n",
        "\n",
        "fig = plt.figure(figsize=[10,8])\n",
        "\n",
        "plt.bar(x=feature_importances['importance'], height=feature_importances['feature'])\n",
        "plt.xlabel('importance')\n",
        "plt.ylabel('feature')\n",
        "plt.title('Feature Importance')"
      ],
      "metadata": {
        "colab": {
          "base_uri": "https://localhost:8080/",
          "height": 530
        },
        "id": "YSuQaTl7dpFC",
        "outputId": "c0d2d474-0a5a-4ed4-fb48-b028b9fe1e22"
      },
      "execution_count": 40,
      "outputs": [
        {
          "output_type": "execute_result",
          "data": {
            "text/plain": [
              "Text(0.5, 1.0, 'Feature Importance')"
            ]
          },
          "metadata": {},
          "execution_count": 40
        },
        {
          "output_type": "display_data",
          "data": {
            "text/plain": [
              "<Figure size 720x576 with 1 Axes>"
            ],
            "image/png": "[encoded data removed]"
          },
          "metadata": {
            "needs_background": "light"
          }
        }
      ]
    },
    {
      "cell_type": "code",
      "source": [
        "\n",
        "# Top Five important features\n",
        "data = {\"customer service calls\": 0.188038, \"total day minutes\": 0.125113, \"total day charge\": 0.12004, \"total intl calls\": 0.091361, \"total eve charge\": 0.058763}\n",
        "\n",
        "# Plotting the bar graph\n",
        "fig, ax = plt.subplots()\n",
        "ax.barh(list(data.keys()), list(data.values()))\n",
        "\n",
        "# Customizing the appearance of bar graph\n",
        "plt.xlabel(\"Importance Score\")\n",
        "plt.ylabel(\"Features\")\n",
        "plt.title(\"Feature Importance\")\n",
        "\n",
        "# Spacing the bars apart\n",
        "ax.xaxis.set_ticks_position(\"bottom\")\n",
        "ax.yaxis.set_ticks_position(\"left\")\n",
        "\n",
        "# Showing the graph\n",
        "plt.tight_layout()\n",
        "plt.show()\n"
      ],
      "metadata": {
        "colab": {
          "base_uri": "https://localhost:8080/",
          "height": 297
        },
        "id": "aYImQPzkD__d",
        "outputId": "e179f81d-37c2-45b7-a516-2f145a867285"
      },
      "execution_count": 39,
      "outputs": [
        {
          "output_type": "display_data",
          "data": {
            "text/plain": [
              "<Figure size 432x288 with 1 Axes>"
            ],
            "image/png": "[encoded data removed]"
          },
          "metadata": {
            "needs_background": "light"
          }
        }
      ]
    },
    {
      "cell_type": "markdown",
      "source": [
        "From our feature importance plot customer service calls, total day minutes and total day charge are identified as the most important features contributing to customer churn.The telco can therefor give more attention to improving customer satisfaction through customer experience, enhancement of their services and implementing strategies aimed at reducing the day time charges. The telco should also keep track of the number of customer service calls, as a high number of such calls may indicate dissatisfaction among the customers. These insights can be used to design targeted retention and engagement programs, aimed at reducing churn and improving customer satisfaction."
      ],
      "metadata": {
        "id": "dA5Gkckvdvv4"
      }
    },
    {
      "cell_type": "markdown",
      "source": [
        "# Model Deployment"
      ],
      "metadata": {
        "id": "xaCIui4iV-iP"
      }
    },
    {
      "cell_type": "code",
      "source": [
        "import pickle\n",
        "\n",
        "# Your trained model\n",
        "model = rf2\n",
        "\n",
        "# Save the model to a pickle file\n",
        "with open(\"Customer_Churn_RFC.pkl\", \"wb\") as file:\n",
        "    pickle.dump(model, file)\n"
      ],
      "metadata": {
        "id": "RQNiwtrERXxv"
      },
      "execution_count": 35,
      "outputs": []
    }
  ]
}